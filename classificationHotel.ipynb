{
 "cells": [
  {
   "cell_type": "code",
   "id": "initial_id",
   "metadata": {
    "collapsed": true,
    "ExecuteTime": {
     "end_time": "2025-03-21T08:58:32.692351Z",
     "start_time": "2025-03-21T08:58:32.675104Z"
    }
   },
   "source": [
    "import torch\n",
    "from transformers import AutoTokenizer, AutoModel, AutoConfig, AutoModelForSequenceClassification, pipeline"
   ],
   "outputs": [],
   "execution_count": 157
  },
  {
   "metadata": {
    "ExecuteTime": {
     "end_time": "2025-03-21T08:58:32.739178Z",
     "start_time": "2025-03-21T08:58:32.696352Z"
    }
   },
   "cell_type": "code",
   "source": [
    "import pandas as pd\n",
    "\n",
    "data = pd.read_csv('ChnSentiCorp_htl_all.csv')"
   ],
   "id": "d00c214732e38a01",
   "outputs": [],
   "execution_count": 158
  },
  {
   "metadata": {
    "ExecuteTime": {
     "end_time": "2025-03-21T08:58:32.770192Z",
     "start_time": "2025-03-21T08:58:32.755929Z"
    }
   },
   "cell_type": "code",
   "source": "data = data.dropna()",
   "id": "d6fdca497b66512c",
   "outputs": [],
   "execution_count": 159
  },
  {
   "metadata": {
    "ExecuteTime": {
     "end_time": "2025-03-21T08:58:32.801389Z",
     "start_time": "2025-03-21T08:58:32.787046Z"
    }
   },
   "cell_type": "code",
   "source": [
    "from torch.utils.data import DataLoader, Dataset\n",
    "\n",
    "\n",
    "class myDataset(Dataset):\n",
    "    def __init__(self, data):\n",
    "        self.data = data\n",
    "\n",
    "    def __len__(self):\n",
    "        return len(self.data)\n",
    "\n",
    "    def __getitem__(self, idx):\n",
    "        return self.data.iloc[idx][\"review\"], int(self.data.iloc[idx][\"label\"])"
   ],
   "id": "9edc1b69decd5610",
   "outputs": [],
   "execution_count": 160
  },
  {
   "metadata": {
    "ExecuteTime": {
     "end_time": "2025-03-21T08:58:32.832702Z",
     "start_time": "2025-03-21T08:58:32.818203Z"
    }
   },
   "cell_type": "code",
   "source": [
    "dataset = myDataset(data)\n",
    "type(dataset[0])"
   ],
   "id": "632a6b29ea43dcb2",
   "outputs": [
    {
     "data": {
      "text/plain": [
       "tuple"
      ]
     },
     "execution_count": 161,
     "metadata": {},
     "output_type": "execute_result"
    }
   ],
   "execution_count": 161
  },
  {
   "metadata": {
    "ExecuteTime": {
     "end_time": "2025-03-21T08:58:32.863698Z",
     "start_time": "2025-03-21T08:58:32.849199Z"
    }
   },
   "cell_type": "code",
   "source": [
    "from torch.utils.data import random_split\n",
    "\n",
    "train_set, valid_set = random_split(dataset, [0.9, 0.1])"
   ],
   "id": "438c74663c5ee3a9",
   "outputs": [],
   "execution_count": 162
  },
  {
   "metadata": {
    "ExecuteTime": {
     "end_time": "2025-03-21T08:58:32.909588Z",
     "start_time": "2025-03-21T08:58:32.880210Z"
    }
   },
   "cell_type": "code",
   "source": [
    "tokenizer = AutoTokenizer.from_pretrained(\"./rbt3\")\n",
    "\n",
    "\n",
    "def collate_fn(batch):\n",
    "    text, label = [], []\n",
    "    for item in batch:\n",
    "        text.append(item[0])\n",
    "        label.append(item[1])\n",
    "    inputs = tokenizer(text, max_length=128, padding=\"max_length\", truncation=True, return_tensors=\"pt\")\n",
    "    inputs[\"labels\"] = torch.tensor(label)\n",
    "    return inputs"
   ],
   "id": "654ec157a9281c22",
   "outputs": [],
   "execution_count": 163
  },
  {
   "metadata": {
    "ExecuteTime": {
     "end_time": "2025-03-21T08:58:32.957419Z",
     "start_time": "2025-03-21T08:58:32.942253Z"
    }
   },
   "cell_type": "code",
   "source": [
    "from torch.utils.data import DataLoader\n",
    "\n",
    "train_loader = DataLoader(dataset=train_set, batch_size=32, shuffle=True, collate_fn=collate_fn)\n",
    "valid_loader = DataLoader(dataset=valid_set, batch_size=64, shuffle=False, collate_fn=collate_fn)"
   ],
   "id": "56258980fd743185",
   "outputs": [],
   "execution_count": 164
  },
  {
   "metadata": {
    "ExecuteTime": {
     "end_time": "2025-03-21T08:58:33.021984Z",
     "start_time": "2025-03-21T08:58:32.962946Z"
    }
   },
   "cell_type": "code",
   "source": [
    "from torch.optim import Adam\n",
    "\n",
    "model = AutoModelForSequenceClassification.from_pretrained(\"./rbt3\",num_labels=2)\n",
    "\n",
    "optimizer = Adam(model.parameters(), lr=2e-5, )"
   ],
   "id": "42394e01e6e3d911",
   "outputs": [
    {
     "name": "stderr",
     "output_type": "stream",
     "text": [
      "Some weights of BertForSequenceClassification were not initialized from the model checkpoint at ./rbt3 and are newly initialized: ['classifier.bias', 'classifier.weight']\n",
      "You should probably TRAIN this model on a down-stream task to be able to use it for predictions and inference.\n"
     ]
    }
   ],
   "execution_count": 165
  },
  {
   "metadata": {
    "ExecuteTime": {
     "end_time": "2025-03-21T08:58:33.051596Z",
     "start_time": "2025-03-21T08:58:33.038471Z"
    }
   },
   "cell_type": "code",
   "source": [
    "def valid():\n",
    "    model.eval()\n",
    "    acc_num = 0\n",
    "    with torch.no_grad():\n",
    "        for batch in valid_loader:\n",
    "            batch = batch.to(torch.device(\"cuda\"))\n",
    "            output = model(**batch)\n",
    "            pred = torch.argmax(output.logits, dim=-1)\n",
    "            acc_num += (pred.long() == batch[\"labels\"].long()).float().sum()\n",
    "    return acc_num/len(valid_set)\n",
    "\n",
    "def train(epochs=5, log_step=100):\n",
    "    model.cuda()\n",
    "    global_step = 0\n",
    "    for epoch in range(epochs):\n",
    "        model.train()\n",
    "        for batch in train_loader:\n",
    "            optimizer.zero_grad()\n",
    "            batch = batch.to(torch.device(\"cuda\"))\n",
    "            outputs = model(**batch)\n",
    "            outputs.loss.backward()\n",
    "            optimizer.step()\n",
    "            global_step += 1\n",
    "            if global_step % log_step == 0:\n",
    "                print(f\"epoch{epoch} global_step:{global_step} loss:{outputs.loss.item()}\")\n",
    "        acc = valid()\n",
    "        print(f\"epoch{epoch} acc:{acc}\")"
   ],
   "id": "524f1905bb867091",
   "outputs": [],
   "execution_count": 166
  },
  {
   "metadata": {
    "ExecuteTime": {
     "end_time": "2025-03-21T09:00:12.403608Z",
     "start_time": "2025-03-21T08:58:33.083747Z"
    }
   },
   "cell_type": "code",
   "source": "train()",
   "id": "1897eabc074dac1f",
   "outputs": [
    {
     "name": "stdout",
     "output_type": "stream",
     "text": [
      "epoch0 global_step:100 loss:0.31878790259361267\n",
      "epoch0 global_step:200 loss:0.3004882335662842\n",
      "epoch0 acc:0.8853092789649963\n",
      "epoch1 global_step:300 loss:0.22689475119113922\n",
      "epoch1 global_step:400 loss:0.16999724507331848\n",
      "epoch1 acc:0.8840205669403076\n",
      "epoch2 global_step:500 loss:0.13916510343551636\n",
      "epoch2 global_step:600 loss:0.0849262923002243\n",
      "epoch2 acc:0.8827319145202637\n",
      "epoch3 global_step:700 loss:0.18778321146965027\n",
      "epoch3 global_step:800 loss:0.053851135075092316\n",
      "epoch3 acc:0.875\n",
      "epoch4 global_step:900 loss:0.16670793294906616\n",
      "epoch4 global_step:1000 loss:0.06257722526788712\n",
      "epoch4 acc:0.8672680258750916\n"
     ]
    }
   ],
   "execution_count": 167
  },
  {
   "metadata": {
    "ExecuteTime": {
     "end_time": "2025-03-21T09:07:37.384072Z",
     "start_time": "2025-03-21T09:07:37.362406Z"
    }
   },
   "cell_type": "code",
   "source": [
    "sen = \"我觉得这个酒店很差，饭很难吃\"\n",
    "model.eval()\n",
    "with torch.inference_mode():\n",
    "    inputs = tokenizer(sen, return_tensors=\"pt\")\n",
    "    inputs = inputs.to(torch.device(\"cuda\"))\n",
    "    logits = model(**inputs).logits\n",
    "    pred = torch.argmax(logits, dim=-1)\n",
    "    print(f\"输入：{sen}\\n预测结果:{pred.item()}\")"
   ],
   "id": "1ff12d0e69d04112",
   "outputs": [
    {
     "name": "stdout",
     "output_type": "stream",
     "text": [
      "输入：我觉得这个酒店很差，饭很难吃\n",
      "预测结果:0\n"
     ]
    }
   ],
   "execution_count": 169
  },
  {
   "metadata": {
    "ExecuteTime": {
     "end_time": "2025-03-21T09:09:58.652633Z",
     "start_time": "2025-03-21T09:09:58.531440Z"
    }
   },
   "cell_type": "code",
   "source": [
    "from transformers import pipeline\n",
    "sen = \"我觉得这个酒店很差，饭很难吃\"\n",
    "pipe = pipeline(\"text-classification\", model=model, tokenizer=tokenizer,device=0)\n",
    "print(pipe(sen))"
   ],
   "id": "6fcaa8f6b7cd8f3a",
   "outputs": [
    {
     "name": "stderr",
     "output_type": "stream",
     "text": [
      "Device set to use cuda:0\n"
     ]
    },
    {
     "name": "stdout",
     "output_type": "stream",
     "text": [
      "[{'label': 'LABEL_0', 'score': 0.9903035759925842}]\n"
     ]
    }
   ],
   "execution_count": 171
  }
 ],
 "metadata": {
  "kernelspec": {
   "display_name": "Python 3",
   "language": "python",
   "name": "python3"
  },
  "language_info": {
   "codemirror_mode": {
    "name": "ipython",
    "version": 2
   },
   "file_extension": ".py",
   "mimetype": "text/x-python",
   "name": "python",
   "nbconvert_exporter": "python",
   "pygments_lexer": "ipython2",
   "version": "2.7.6"
  }
 },
 "nbformat": 4,
 "nbformat_minor": 5
}
